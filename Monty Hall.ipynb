{
 "cells": [
  {
   "cell_type": "markdown",
   "metadata": {},
   "source": [
    "You are on a game show and given the choice of whatever is behind three doors. Behind one door is a fantastic prize (some examples use a car, others use cash) while behind the other two doors is a dud (some examples say a goat, others say it's just empty). You pick a door. Then the host opens one of the other two doors to reveal a dud. But here's the wrinkle: the host now gives you the opportunity to switch your door. What should you do?"
   ]
  },
  {
   "cell_type": "markdown",
   "metadata": {},
   "source": [
    "We discussed this problem in one of my statistics classes, so it's a little difficult for me to write up notes on this since I know the answer.\n",
    "\n",
    "But I guess if I didn't know the answer, it would seem like revealing a dud wouldn't actually change any probabilities involved. \n",
    "\n",
    "However, the host **always** reveals a dud. This means he's taken one of the duds away as a possible choice. When you first chose, you had 1/3 probability of choosing the fantastic prize. This means that there was a 2/3 chance of the fantastic prize being behind the other two doors. Once the host opens one of the other doors, you know the prize wasn't behind the opened door. So there's a 2/3 probablity of the prize being behind the final door. So you should switch because you're doubling your chance of getting the prize. \n",
    "\n",
    "Another way of thinking about it is if the car is behind the door you originally chose (a 1/3 chance), and you switch, you will lose. However, if it's behind one of the other two doors, you switch, and then you win (a 2/3 chance). \n",
    "\n",
    "For Bayes' Rule, P(A | B) = P(B | A) * P(A) / P(B), \n",
    "\n",
    "P(car in 1 | door 3 is opened) = P(door 3 is opened | car in 1) \\* P(car in 1) / P(door 3 is opened) = \n",
    "(1/2 * 1/3)/(1/2) = 1/3\n",
    "\n",
    "P(car in 2 | door 3 is opened) = P(door 3 is opened | car in 2) \\* P(car in 2) / P(door 3 is opened) = \n",
    "(1 * 1/3)/(1/2) = 2/3"
   ]
  },
  {
   "cell_type": "code",
   "execution_count": null,
   "metadata": {
    "collapsed": true
   },
   "outputs": [],
   "source": []
  }
 ],
 "metadata": {
  "kernelspec": {
   "display_name": "Python 3",
   "language": "python",
   "name": "python3"
  },
  "language_info": {
   "codemirror_mode": {
    "name": "ipython",
    "version": 3
   },
   "file_extension": ".py",
   "mimetype": "text/x-python",
   "name": "python",
   "nbconvert_exporter": "python",
   "pygments_lexer": "ipython3",
   "version": "3.6.0"
  }
 },
 "nbformat": 4,
 "nbformat_minor": 2
}
